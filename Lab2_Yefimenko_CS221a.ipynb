{
 "cells": [
  {
   "cell_type": "markdown",
   "id": "a0da825f-1695-48a4-9795-f4910b4d0bc7",
   "metadata": {},
   "source": [
    "# Лабораторна робота №2\n",
    "## Використання Pandas для аналізу даних\n",
    "<br /><br/>\n",
    "### Виконав\n",
    "### студентка групи КН-221а\n",
    "### Єфіменко Анастасія Миколаївна\n",
    "### Перевірив\n",
    "### асистент кафедри\n",
    "### Звєрцев Герман Олександрович\n",
    "<br /><br/><br/><br/>\n",
    "## Мета роботи \n",
    "**Вивчення основних функцій Pandas для аналізу даних.**"
   ]
  },
  {
   "cell_type": "code",
   "execution_count": 1,
   "id": "c5c5ab61-e0ed-4c50-9ee8-93a257983cd6",
   "metadata": {},
   "outputs": [
    {
     "name": "stdout",
     "output_type": "stream",
     "text": [
      "5\n"
     ]
    }
   ],
   "source": [
    "n = 5\n",
    "N = (n + 4) % 5 + 1\n",
    "print(N)"
   ]
  },
  {
   "cell_type": "markdown",
   "id": "12cf6f08-db63-40c8-9943-1222fc16ce47",
   "metadata": {},
   "source": [
    "## Хід роботи"
   ]
  },
  {
   "cell_type": "code",
   "execution_count": 2,
   "id": "337ddb18-978a-4eac-adc9-24ce92b4be4c",
   "metadata": {},
   "outputs": [],
   "source": [
    "import pandas as pd\n",
    "\n",
    "file_path = 'NationalNames.csv'\n",
    "\n",
    "data = pd.read_csv(file_path)"
   ]
  },
  {
   "cell_type": "markdown",
   "id": "b18855af-17a3-4d10-8139-1ad0477a3c16",
   "metadata": {},
   "source": [
    "### 2. Вивести останні 8 рядків набору даних."
   ]
  },
  {
   "cell_type": "code",
   "execution_count": 3,
   "id": "47d62898-ca01-4f5b-8491-88adf96a2b96",
   "metadata": {},
   "outputs": [
    {
     "data": {
      "text/html": [
       "<div>\n",
       "<style scoped>\n",
       "    .dataframe tbody tr th:only-of-type {\n",
       "        vertical-align: middle;\n",
       "    }\n",
       "\n",
       "    .dataframe tbody tr th {\n",
       "        vertical-align: top;\n",
       "    }\n",
       "\n",
       "    .dataframe thead th {\n",
       "        text-align: right;\n",
       "    }\n",
       "</style>\n",
       "<table border=\"1\" class=\"dataframe\">\n",
       "  <thead>\n",
       "    <tr style=\"text-align: right;\">\n",
       "      <th></th>\n",
       "      <th>Id</th>\n",
       "      <th>Name</th>\n",
       "      <th>Year</th>\n",
       "      <th>Gender</th>\n",
       "      <th>Count</th>\n",
       "    </tr>\n",
       "  </thead>\n",
       "  <tbody>\n",
       "    <tr>\n",
       "      <th>1825425</th>\n",
       "      <td>1825426</td>\n",
       "      <td>Zo</td>\n",
       "      <td>2014</td>\n",
       "      <td>M</td>\n",
       "      <td>5</td>\n",
       "    </tr>\n",
       "    <tr>\n",
       "      <th>1825426</th>\n",
       "      <td>1825427</td>\n",
       "      <td>Zyeir</td>\n",
       "      <td>2014</td>\n",
       "      <td>M</td>\n",
       "      <td>5</td>\n",
       "    </tr>\n",
       "    <tr>\n",
       "      <th>1825427</th>\n",
       "      <td>1825428</td>\n",
       "      <td>Zyel</td>\n",
       "      <td>2014</td>\n",
       "      <td>M</td>\n",
       "      <td>5</td>\n",
       "    </tr>\n",
       "    <tr>\n",
       "      <th>1825428</th>\n",
       "      <td>1825429</td>\n",
       "      <td>Zykeem</td>\n",
       "      <td>2014</td>\n",
       "      <td>M</td>\n",
       "      <td>5</td>\n",
       "    </tr>\n",
       "    <tr>\n",
       "      <th>1825429</th>\n",
       "      <td>1825430</td>\n",
       "      <td>Zymeer</td>\n",
       "      <td>2014</td>\n",
       "      <td>M</td>\n",
       "      <td>5</td>\n",
       "    </tr>\n",
       "    <tr>\n",
       "      <th>1825430</th>\n",
       "      <td>1825431</td>\n",
       "      <td>Zymiere</td>\n",
       "      <td>2014</td>\n",
       "      <td>M</td>\n",
       "      <td>5</td>\n",
       "    </tr>\n",
       "    <tr>\n",
       "      <th>1825431</th>\n",
       "      <td>1825432</td>\n",
       "      <td>Zyran</td>\n",
       "      <td>2014</td>\n",
       "      <td>M</td>\n",
       "      <td>5</td>\n",
       "    </tr>\n",
       "    <tr>\n",
       "      <th>1825432</th>\n",
       "      <td>1825433</td>\n",
       "      <td>Zyrin</td>\n",
       "      <td>2014</td>\n",
       "      <td>M</td>\n",
       "      <td>5</td>\n",
       "    </tr>\n",
       "  </tbody>\n",
       "</table>\n",
       "</div>"
      ],
      "text/plain": [
       "              Id     Name  Year Gender  Count\n",
       "1825425  1825426       Zo  2014      M      5\n",
       "1825426  1825427    Zyeir  2014      M      5\n",
       "1825427  1825428     Zyel  2014      M      5\n",
       "1825428  1825429   Zykeem  2014      M      5\n",
       "1825429  1825430   Zymeer  2014      M      5\n",
       "1825430  1825431  Zymiere  2014      M      5\n",
       "1825431  1825432    Zyran  2014      M      5\n",
       "1825432  1825433    Zyrin  2014      M      5"
      ]
     },
     "execution_count": 3,
     "metadata": {},
     "output_type": "execute_result"
    }
   ],
   "source": [
    "data.tail(8)"
   ]
  },
  {
   "cell_type": "markdown",
   "id": "ab2f7fa2-e913-4834-b007-1cd6c3841285",
   "metadata": {},
   "source": [
    "### 4. Отримайте загальну інформацію про дані у наборі даних."
   ]
  },
  {
   "cell_type": "code",
   "execution_count": 4,
   "id": "eaab144c-f5d8-4ec9-80be-9175409f9271",
   "metadata": {},
   "outputs": [
    {
     "data": {
      "text/html": [
       "<div>\n",
       "<style scoped>\n",
       "    .dataframe tbody tr th:only-of-type {\n",
       "        vertical-align: middle;\n",
       "    }\n",
       "\n",
       "    .dataframe tbody tr th {\n",
       "        vertical-align: top;\n",
       "    }\n",
       "\n",
       "    .dataframe thead th {\n",
       "        text-align: right;\n",
       "    }\n",
       "</style>\n",
       "<table border=\"1\" class=\"dataframe\">\n",
       "  <thead>\n",
       "    <tr style=\"text-align: right;\">\n",
       "      <th></th>\n",
       "      <th>Id</th>\n",
       "      <th>Year</th>\n",
       "      <th>Count</th>\n",
       "    </tr>\n",
       "  </thead>\n",
       "  <tbody>\n",
       "    <tr>\n",
       "      <th>count</th>\n",
       "      <td>1.825433e+06</td>\n",
       "      <td>1.825433e+06</td>\n",
       "      <td>1.825433e+06</td>\n",
       "    </tr>\n",
       "    <tr>\n",
       "      <th>mean</th>\n",
       "      <td>9.127170e+05</td>\n",
       "      <td>1.972620e+03</td>\n",
       "      <td>1.846879e+02</td>\n",
       "    </tr>\n",
       "    <tr>\n",
       "      <th>std</th>\n",
       "      <td>5.269573e+05</td>\n",
       "      <td>3.352891e+01</td>\n",
       "      <td>1.566711e+03</td>\n",
       "    </tr>\n",
       "    <tr>\n",
       "      <th>min</th>\n",
       "      <td>1.000000e+00</td>\n",
       "      <td>1.880000e+03</td>\n",
       "      <td>5.000000e+00</td>\n",
       "    </tr>\n",
       "    <tr>\n",
       "      <th>25%</th>\n",
       "      <td>4.563590e+05</td>\n",
       "      <td>1.949000e+03</td>\n",
       "      <td>7.000000e+00</td>\n",
       "    </tr>\n",
       "    <tr>\n",
       "      <th>50%</th>\n",
       "      <td>9.127170e+05</td>\n",
       "      <td>1.982000e+03</td>\n",
       "      <td>1.200000e+01</td>\n",
       "    </tr>\n",
       "    <tr>\n",
       "      <th>75%</th>\n",
       "      <td>1.369075e+06</td>\n",
       "      <td>2.001000e+03</td>\n",
       "      <td>3.200000e+01</td>\n",
       "    </tr>\n",
       "    <tr>\n",
       "      <th>max</th>\n",
       "      <td>1.825433e+06</td>\n",
       "      <td>2.014000e+03</td>\n",
       "      <td>9.968000e+04</td>\n",
       "    </tr>\n",
       "  </tbody>\n",
       "</table>\n",
       "</div>"
      ],
      "text/plain": [
       "                 Id          Year         Count\n",
       "count  1.825433e+06  1.825433e+06  1.825433e+06\n",
       "mean   9.127170e+05  1.972620e+03  1.846879e+02\n",
       "std    5.269573e+05  3.352891e+01  1.566711e+03\n",
       "min    1.000000e+00  1.880000e+03  5.000000e+00\n",
       "25%    4.563590e+05  1.949000e+03  7.000000e+00\n",
       "50%    9.127170e+05  1.982000e+03  1.200000e+01\n",
       "75%    1.369075e+06  2.001000e+03  3.200000e+01\n",
       "max    1.825433e+06  2.014000e+03  9.968000e+04"
      ]
     },
     "execution_count": 4,
     "metadata": {},
     "output_type": "execute_result"
    }
   ],
   "source": [
    "data.describe()"
   ]
  },
  {
   "cell_type": "markdown",
   "id": "5b5189cf-956c-4660-a1c7-23ef7b82f4c2",
   "metadata": {},
   "source": [
    "### 6. Обчисліть кількість унікальних жіночих та чоловічих імен у цілому наборі даних."
   ]
  },
  {
   "cell_type": "code",
   "execution_count": 5,
   "id": "2ab60253-c919-431e-ac5e-5c0acd32117d",
   "metadata": {},
   "outputs": [
    {
     "name": "stdout",
     "output_type": "stream",
     "text": [
      "\n",
      "Кількість унікальних жіночих імен: 64911\n",
      "Кількість унікальних чоловічих імен: 39199\n"
     ]
    }
   ],
   "source": [
    "unique_female_names = data[data['Gender'] == 'F']['Name'].nunique()\n",
    "unique_male_names = data[data['Gender'] == 'M']['Name'].nunique()\n",
    "\n",
    "print(f\"\\nКількість унікальних жіночих імен: {unique_female_names}\")\n",
    "print(f\"Кількість унікальних чоловічих імен: {unique_male_names}\")"
   ]
  },
  {
   "cell_type": "markdown",
   "id": "d6b0a0ef-f444-493a-8654-5cb573223238",
   "metadata": {},
   "source": [
    "### 7. Знайдіть 5 найпопулярніших чоловічих імен у 2010 році."
   ]
  },
  {
   "cell_type": "code",
   "execution_count": 6,
   "id": "0b12d31f-54f7-4dd1-ac7b-6aa18611e6b7",
   "metadata": {},
   "outputs": [
    {
     "data": {
      "text/html": [
       "<div>\n",
       "<style scoped>\n",
       "    .dataframe tbody tr th:only-of-type {\n",
       "        vertical-align: middle;\n",
       "    }\n",
       "\n",
       "    .dataframe tbody tr th {\n",
       "        vertical-align: top;\n",
       "    }\n",
       "\n",
       "    .dataframe thead th {\n",
       "        text-align: right;\n",
       "    }\n",
       "</style>\n",
       "<table border=\"1\" class=\"dataframe\">\n",
       "  <thead>\n",
       "    <tr style=\"text-align: right;\">\n",
       "      <th></th>\n",
       "      <th>Id</th>\n",
       "      <th>Name</th>\n",
       "      <th>Year</th>\n",
       "      <th>Gender</th>\n",
       "      <th>Count</th>\n",
       "    </tr>\n",
       "  </thead>\n",
       "  <tbody>\n",
       "    <tr>\n",
       "      <th>1677392</th>\n",
       "      <td>1677393</td>\n",
       "      <td>Jacob</td>\n",
       "      <td>2010</td>\n",
       "      <td>M</td>\n",
       "      <td>22082</td>\n",
       "    </tr>\n",
       "    <tr>\n",
       "      <th>1677393</th>\n",
       "      <td>1677394</td>\n",
       "      <td>Ethan</td>\n",
       "      <td>2010</td>\n",
       "      <td>M</td>\n",
       "      <td>17985</td>\n",
       "    </tr>\n",
       "    <tr>\n",
       "      <th>1677394</th>\n",
       "      <td>1677395</td>\n",
       "      <td>Michael</td>\n",
       "      <td>2010</td>\n",
       "      <td>M</td>\n",
       "      <td>17308</td>\n",
       "    </tr>\n",
       "    <tr>\n",
       "      <th>1677395</th>\n",
       "      <td>1677396</td>\n",
       "      <td>Jayden</td>\n",
       "      <td>2010</td>\n",
       "      <td>M</td>\n",
       "      <td>17152</td>\n",
       "    </tr>\n",
       "    <tr>\n",
       "      <th>1677396</th>\n",
       "      <td>1677397</td>\n",
       "      <td>William</td>\n",
       "      <td>2010</td>\n",
       "      <td>M</td>\n",
       "      <td>17030</td>\n",
       "    </tr>\n",
       "  </tbody>\n",
       "</table>\n",
       "</div>"
      ],
      "text/plain": [
       "              Id     Name  Year Gender  Count\n",
       "1677392  1677393    Jacob  2010      M  22082\n",
       "1677393  1677394    Ethan  2010      M  17985\n",
       "1677394  1677395  Michael  2010      M  17308\n",
       "1677395  1677396   Jayden  2010      M  17152\n",
       "1677396  1677397  William  2010      M  17030"
      ]
     },
     "execution_count": 6,
     "metadata": {},
     "output_type": "execute_result"
    }
   ],
   "source": [
    "top_male_names_2010 = data[(data['Gender'] == 'M') & (data['Year'] == 2010)]\n",
    "top_male_names_2010.head(5)"
   ]
  },
  {
   "cell_type": "markdown",
   "id": "fbcb47f8-5c50-41dd-9c7f-4e9ebb8f5225",
   "metadata": {},
   "source": [
    "### 9. Підрахуйте кількість записів, для яких Count - мінімальне у наборі."
   ]
  },
  {
   "cell_type": "code",
   "execution_count": 7,
   "id": "0a9f5c08-050d-4a78-894a-b9366a79c39f",
   "metadata": {},
   "outputs": [
    {
     "name": "stdout",
     "output_type": "stream",
     "text": [
      "254615\n"
     ]
    }
   ],
   "source": [
    "min_count_records = data[data['Count'] == data['Count'].min()]\n",
    "print(len(min_count_records))"
   ]
  },
  {
   "cell_type": "markdown",
   "id": "1a52ed9c-ae9a-45bc-b6f2-e7d105608db8",
   "metadata": {},
   "source": [
    "### 10. Підрахуйте кількість унікальних імен у кожному році."
   ]
  },
  {
   "cell_type": "code",
   "execution_count": 8,
   "id": "f3472af6-3f8f-4665-81b5-0d9064d3497f",
   "metadata": {},
   "outputs": [
    {
     "data": {
      "text/html": [
       "<div>\n",
       "<style scoped>\n",
       "    .dataframe tbody tr th:only-of-type {\n",
       "        vertical-align: middle;\n",
       "    }\n",
       "\n",
       "    .dataframe tbody tr th {\n",
       "        vertical-align: top;\n",
       "    }\n",
       "\n",
       "    .dataframe thead th {\n",
       "        text-align: right;\n",
       "    }\n",
       "</style>\n",
       "<table border=\"1\" class=\"dataframe\">\n",
       "  <thead>\n",
       "    <tr style=\"text-align: right;\">\n",
       "      <th></th>\n",
       "      <th>Year</th>\n",
       "      <th>Name</th>\n",
       "    </tr>\n",
       "  </thead>\n",
       "  <tbody>\n",
       "    <tr>\n",
       "      <th>0</th>\n",
       "      <td>1880</td>\n",
       "      <td>1889</td>\n",
       "    </tr>\n",
       "    <tr>\n",
       "      <th>1</th>\n",
       "      <td>1881</td>\n",
       "      <td>1830</td>\n",
       "    </tr>\n",
       "    <tr>\n",
       "      <th>2</th>\n",
       "      <td>1882</td>\n",
       "      <td>2012</td>\n",
       "    </tr>\n",
       "    <tr>\n",
       "      <th>3</th>\n",
       "      <td>1883</td>\n",
       "      <td>1962</td>\n",
       "    </tr>\n",
       "    <tr>\n",
       "      <th>4</th>\n",
       "      <td>1884</td>\n",
       "      <td>2158</td>\n",
       "    </tr>\n",
       "    <tr>\n",
       "      <th>...</th>\n",
       "      <td>...</td>\n",
       "      <td>...</td>\n",
       "    </tr>\n",
       "    <tr>\n",
       "      <th>130</th>\n",
       "      <td>2010</td>\n",
       "      <td>31603</td>\n",
       "    </tr>\n",
       "    <tr>\n",
       "      <th>131</th>\n",
       "      <td>2011</td>\n",
       "      <td>31418</td>\n",
       "    </tr>\n",
       "    <tr>\n",
       "      <th>132</th>\n",
       "      <td>2012</td>\n",
       "      <td>31236</td>\n",
       "    </tr>\n",
       "    <tr>\n",
       "      <th>133</th>\n",
       "      <td>2013</td>\n",
       "      <td>30774</td>\n",
       "    </tr>\n",
       "    <tr>\n",
       "      <th>134</th>\n",
       "      <td>2014</td>\n",
       "      <td>30579</td>\n",
       "    </tr>\n",
       "  </tbody>\n",
       "</table>\n",
       "<p>135 rows × 2 columns</p>\n",
       "</div>"
      ],
      "text/plain": [
       "     Year   Name\n",
       "0    1880   1889\n",
       "1    1881   1830\n",
       "2    1882   2012\n",
       "3    1883   1962\n",
       "4    1884   2158\n",
       "..    ...    ...\n",
       "130  2010  31603\n",
       "131  2011  31418\n",
       "132  2012  31236\n",
       "133  2013  30774\n",
       "134  2014  30579\n",
       "\n",
       "[135 rows x 2 columns]"
      ]
     },
     "execution_count": 8,
     "metadata": {},
     "output_type": "execute_result"
    }
   ],
   "source": [
    "unique_names_per_year = data.groupby('Year')['Name'].nunique().reset_index(name='Name')\n",
    "unique_names_per_year"
   ]
  },
  {
   "cell_type": "markdown",
   "id": "65c3a435-0727-4681-b96c-00cade5165c0",
   "metadata": {},
   "source": [
    "### 15. Знайдіть загальну кількість народжень за рік."
   ]
  },
  {
   "cell_type": "code",
   "execution_count": 9,
   "id": "8f5ff4ad-e714-449a-86c3-97ca66042cea",
   "metadata": {},
   "outputs": [
    {
     "data": {
      "text/html": [
       "<div>\n",
       "<style scoped>\n",
       "    .dataframe tbody tr th:only-of-type {\n",
       "        vertical-align: middle;\n",
       "    }\n",
       "\n",
       "    .dataframe tbody tr th {\n",
       "        vertical-align: top;\n",
       "    }\n",
       "\n",
       "    .dataframe thead th {\n",
       "        text-align: right;\n",
       "    }\n",
       "</style>\n",
       "<table border=\"1\" class=\"dataframe\">\n",
       "  <thead>\n",
       "    <tr style=\"text-align: right;\">\n",
       "      <th></th>\n",
       "      <th>Year</th>\n",
       "      <th>Births</th>\n",
       "    </tr>\n",
       "  </thead>\n",
       "  <tbody>\n",
       "    <tr>\n",
       "      <th>0</th>\n",
       "      <td>1880</td>\n",
       "      <td>201484</td>\n",
       "    </tr>\n",
       "    <tr>\n",
       "      <th>1</th>\n",
       "      <td>1881</td>\n",
       "      <td>192699</td>\n",
       "    </tr>\n",
       "    <tr>\n",
       "      <th>2</th>\n",
       "      <td>1882</td>\n",
       "      <td>221538</td>\n",
       "    </tr>\n",
       "    <tr>\n",
       "      <th>3</th>\n",
       "      <td>1883</td>\n",
       "      <td>216950</td>\n",
       "    </tr>\n",
       "    <tr>\n",
       "      <th>4</th>\n",
       "      <td>1884</td>\n",
       "      <td>243467</td>\n",
       "    </tr>\n",
       "    <tr>\n",
       "      <th>...</th>\n",
       "      <td>...</td>\n",
       "      <td>...</td>\n",
       "    </tr>\n",
       "    <tr>\n",
       "      <th>130</th>\n",
       "      <td>2010</td>\n",
       "      <td>3686589</td>\n",
       "    </tr>\n",
       "    <tr>\n",
       "      <th>131</th>\n",
       "      <td>2011</td>\n",
       "      <td>3646730</td>\n",
       "    </tr>\n",
       "    <tr>\n",
       "      <th>132</th>\n",
       "      <td>2012</td>\n",
       "      <td>3643336</td>\n",
       "    </tr>\n",
       "    <tr>\n",
       "      <th>133</th>\n",
       "      <td>2013</td>\n",
       "      <td>3626802</td>\n",
       "    </tr>\n",
       "    <tr>\n",
       "      <th>134</th>\n",
       "      <td>2014</td>\n",
       "      <td>3670151</td>\n",
       "    </tr>\n",
       "  </tbody>\n",
       "</table>\n",
       "<p>135 rows × 2 columns</p>\n",
       "</div>"
      ],
      "text/plain": [
       "     Year   Births\n",
       "0    1880   201484\n",
       "1    1881   192699\n",
       "2    1882   221538\n",
       "3    1883   216950\n",
       "4    1884   243467\n",
       "..    ...      ...\n",
       "130  2010  3686589\n",
       "131  2011  3646730\n",
       "132  2012  3643336\n",
       "133  2013  3626802\n",
       "134  2014  3670151\n",
       "\n",
       "[135 rows x 2 columns]"
      ]
     },
     "execution_count": 9,
     "metadata": {},
     "output_type": "execute_result"
    }
   ],
   "source": [
    "total_births_per_year = data.groupby('Year')['Count'].sum().reset_index(name='Births')\n",
    "total_births_per_year"
   ]
  },
  {
   "cell_type": "markdown",
   "id": "4687e4b3-c6b0-4ec5-a195-e7debbd0288e",
   "metadata": {},
   "source": [
    "### 16. Знайдіть рік, коли народилося найбільше дітей."
   ]
  },
  {
   "cell_type": "code",
   "execution_count": 10,
   "id": "e12df238-89e8-4d89-a1aa-f09b5c4e7de8",
   "metadata": {},
   "outputs": [
    {
     "name": "stdout",
     "output_type": "stream",
     "text": [
      "1957\n"
     ]
    }
   ],
   "source": [
    "year_with_most_births = data.groupby('Year')['Count'].sum().idxmax()\n",
    "print(year_with_most_births)"
   ]
  },
  {
   "cell_type": "markdown",
   "id": "5e37573b-2421-405a-b216-054e422ef2ab",
   "metadata": {},
   "source": [
    "### 17. Знайдіть кількість дівчаток та хлопчиків, які народились кожного року."
   ]
  },
  {
   "cell_type": "code",
   "execution_count": 11,
   "id": "92d410a9-c05d-4320-89cc-817c8ccc6fd5",
   "metadata": {},
   "outputs": [
    {
     "data": {
      "text/html": [
       "<div>\n",
       "<style scoped>\n",
       "    .dataframe tbody tr th:only-of-type {\n",
       "        vertical-align: middle;\n",
       "    }\n",
       "\n",
       "    .dataframe tbody tr th {\n",
       "        vertical-align: top;\n",
       "    }\n",
       "\n",
       "    .dataframe thead th {\n",
       "        text-align: right;\n",
       "    }\n",
       "</style>\n",
       "<table border=\"1\" class=\"dataframe\">\n",
       "  <thead>\n",
       "    <tr style=\"text-align: right;\">\n",
       "      <th>Gender</th>\n",
       "      <th>F</th>\n",
       "      <th>M</th>\n",
       "    </tr>\n",
       "    <tr>\n",
       "      <th>Year</th>\n",
       "      <th></th>\n",
       "      <th></th>\n",
       "    </tr>\n",
       "  </thead>\n",
       "  <tbody>\n",
       "    <tr>\n",
       "      <th>1880</th>\n",
       "      <td>90993</td>\n",
       "      <td>110491</td>\n",
       "    </tr>\n",
       "    <tr>\n",
       "      <th>1881</th>\n",
       "      <td>91954</td>\n",
       "      <td>100745</td>\n",
       "    </tr>\n",
       "    <tr>\n",
       "      <th>1882</th>\n",
       "      <td>107850</td>\n",
       "      <td>113688</td>\n",
       "    </tr>\n",
       "    <tr>\n",
       "      <th>1883</th>\n",
       "      <td>112321</td>\n",
       "      <td>104629</td>\n",
       "    </tr>\n",
       "    <tr>\n",
       "      <th>1884</th>\n",
       "      <td>129022</td>\n",
       "      <td>114445</td>\n",
       "    </tr>\n",
       "    <tr>\n",
       "      <th>...</th>\n",
       "      <td>...</td>\n",
       "      <td>...</td>\n",
       "    </tr>\n",
       "    <tr>\n",
       "      <th>2010</th>\n",
       "      <td>1772738</td>\n",
       "      <td>1913851</td>\n",
       "    </tr>\n",
       "    <tr>\n",
       "      <th>2011</th>\n",
       "      <td>1753500</td>\n",
       "      <td>1893230</td>\n",
       "    </tr>\n",
       "    <tr>\n",
       "      <th>2012</th>\n",
       "      <td>1753922</td>\n",
       "      <td>1889414</td>\n",
       "    </tr>\n",
       "    <tr>\n",
       "      <th>2013</th>\n",
       "      <td>1745339</td>\n",
       "      <td>1881463</td>\n",
       "    </tr>\n",
       "    <tr>\n",
       "      <th>2014</th>\n",
       "      <td>1768775</td>\n",
       "      <td>1901376</td>\n",
       "    </tr>\n",
       "  </tbody>\n",
       "</table>\n",
       "<p>135 rows × 2 columns</p>\n",
       "</div>"
      ],
      "text/plain": [
       "Gender        F        M\n",
       "Year                    \n",
       "1880      90993   110491\n",
       "1881      91954   100745\n",
       "1882     107850   113688\n",
       "1883     112321   104629\n",
       "1884     129022   114445\n",
       "...         ...      ...\n",
       "2010    1772738  1913851\n",
       "2011    1753500  1893230\n",
       "2012    1753922  1889414\n",
       "2013    1745339  1881463\n",
       "2014    1768775  1901376\n",
       "\n",
       "[135 rows x 2 columns]"
      ]
     },
     "execution_count": 11,
     "metadata": {},
     "output_type": "execute_result"
    }
   ],
   "source": [
    "gender_counts_per_year = data.groupby(['Year', 'Gender'])['Count'].sum().unstack()\n",
    "gender_counts_per_year"
   ]
  },
  {
   "cell_type": "markdown",
   "id": "23b37dcd-c78a-4f00-a04e-0f390a3e0459",
   "metadata": {},
   "source": [
    "### 18. Підрахуйте кількість років, коли дівчаток народжувалось більше, ніж хлопчиків."
   ]
  },
  {
   "cell_type": "code",
   "execution_count": 12,
   "id": "3a11b2ee-3a2a-4a15-b1ce-5be0470db2d4",
   "metadata": {},
   "outputs": [
    {
     "name": "stdout",
     "output_type": "stream",
     "text": [
      "54\n"
     ]
    }
   ],
   "source": [
    "years_more_girls_than_boys = (gender_counts_per_year['F'] > gender_counts_per_year['M']).sum()\n",
    "print(years_more_girls_than_boys)"
   ]
  },
  {
   "cell_type": "markdown",
   "id": "ec22344f-1488-40c0-b0ff-7cc5d3a80dfd",
   "metadata": {},
   "source": [
    "### 20. Підрахуйте кількість гендерно нейтральних імен (однакових для дівчат та хлопців)."
   ]
  },
  {
   "cell_type": "code",
   "execution_count": 13,
   "id": "dd02a4f2-be12-4ae2-8996-192dcc68f1d6",
   "metadata": {},
   "outputs": [
    {
     "name": "stdout",
     "output_type": "stream",
     "text": [
      "10221\n"
     ]
    }
   ],
   "source": [
    "gender_neutral_names_count = data.groupby('Name')['Gender'].nunique().eq(2).sum()\n",
    "print(gender_neutral_names_count)"
   ]
  },
  {
   "cell_type": "markdown",
   "id": "a2fc9566-3dc2-4df9-adb9-d46518169a96",
   "metadata": {},
   "source": [
    "### 21. Порахуйте, скільки разів хлопчиків називали Barbara."
   ]
  },
  {
   "cell_type": "code",
   "execution_count": 14,
   "id": "10e1a2de-9486-4878-95bb-107c094e961d",
   "metadata": {},
   "outputs": [
    {
     "name": "stdout",
     "output_type": "stream",
     "text": [
      "4139\n"
     ]
    }
   ],
   "source": [
    "barbara_male_count = data[(data['Name'] == 'Barbara') & (data['Gender'] == 'M')]['Count'].sum()\n",
    "print(barbara_male_count)"
   ]
  },
  {
   "cell_type": "markdown",
   "id": "a038a604-e7f9-4222-ae40-036f8a9d7742",
   "metadata": {},
   "source": [
    "### 22. Підрахуйте скільки років проводилось спостереження"
   ]
  },
  {
   "cell_type": "code",
   "execution_count": 15,
   "id": "441ad295-4e16-4c8a-8e35-b654200ae39b",
   "metadata": {},
   "outputs": [
    {
     "name": "stdout",
     "output_type": "stream",
     "text": [
      "\n",
      "Спостереження проводилось 135 років\n"
     ]
    }
   ],
   "source": [
    "observation_years = data['Year'].nunique()\n",
    "print(f\"\\nСпостереження проводилось {observation_years} років\")"
   ]
  },
  {
   "cell_type": "markdown",
   "id": "3770648f-a6fb-4cc3-9fa3-cd0ad26a9bb1",
   "metadata": {},
   "source": [
    "### 23. Знати найпопулярніші гендерно-нейтральні імена (ті, що присутні кожного року)"
   ]
  },
  {
   "cell_type": "code",
   "execution_count": 16,
   "id": "cb6e442a-ac25-40a2-aeee-ef872ebc2ade",
   "metadata": {},
   "outputs": [
    {
     "data": {
      "text/html": [
       "<div>\n",
       "<style scoped>\n",
       "    .dataframe tbody tr th:only-of-type {\n",
       "        vertical-align: middle;\n",
       "    }\n",
       "\n",
       "    .dataframe tbody tr th {\n",
       "        vertical-align: top;\n",
       "    }\n",
       "\n",
       "    .dataframe thead th {\n",
       "        text-align: right;\n",
       "    }\n",
       "</style>\n",
       "<table border=\"1\" class=\"dataframe\">\n",
       "  <thead>\n",
       "    <tr style=\"text-align: right;\">\n",
       "      <th></th>\n",
       "      <th>Name</th>\n",
       "    </tr>\n",
       "  </thead>\n",
       "  <tbody>\n",
       "    <tr>\n",
       "      <th>0</th>\n",
       "      <td>James</td>\n",
       "    </tr>\n",
       "    <tr>\n",
       "      <th>1</th>\n",
       "      <td>Leslie</td>\n",
       "    </tr>\n",
       "    <tr>\n",
       "      <th>2</th>\n",
       "      <td>Joseph</td>\n",
       "    </tr>\n",
       "    <tr>\n",
       "      <th>3</th>\n",
       "      <td>Jessie</td>\n",
       "    </tr>\n",
       "    <tr>\n",
       "      <th>4</th>\n",
       "      <td>Jesse</td>\n",
       "    </tr>\n",
       "    <tr>\n",
       "      <th>5</th>\n",
       "      <td>Sidney</td>\n",
       "    </tr>\n",
       "    <tr>\n",
       "      <th>6</th>\n",
       "      <td>John</td>\n",
       "    </tr>\n",
       "    <tr>\n",
       "      <th>7</th>\n",
       "      <td>Robert</td>\n",
       "    </tr>\n",
       "    <tr>\n",
       "      <th>8</th>\n",
       "      <td>Tommie</td>\n",
       "    </tr>\n",
       "    <tr>\n",
       "      <th>9</th>\n",
       "      <td>Jean</td>\n",
       "    </tr>\n",
       "    <tr>\n",
       "      <th>10</th>\n",
       "      <td>Johnnie</td>\n",
       "    </tr>\n",
       "    <tr>\n",
       "      <th>11</th>\n",
       "      <td>William</td>\n",
       "    </tr>\n",
       "    <tr>\n",
       "      <th>12</th>\n",
       "      <td>Lee</td>\n",
       "    </tr>\n",
       "    <tr>\n",
       "      <th>13</th>\n",
       "      <td>Marion</td>\n",
       "    </tr>\n",
       "    <tr>\n",
       "      <th>14</th>\n",
       "      <td>Francis</td>\n",
       "    </tr>\n",
       "    <tr>\n",
       "      <th>15</th>\n",
       "      <td>Ollie</td>\n",
       "    </tr>\n",
       "  </tbody>\n",
       "</table>\n",
       "</div>"
      ],
      "text/plain": [
       "       Name\n",
       "0     James\n",
       "1    Leslie\n",
       "2    Joseph\n",
       "3    Jessie\n",
       "4     Jesse\n",
       "5    Sidney\n",
       "6      John\n",
       "7    Robert\n",
       "8    Tommie\n",
       "9      Jean\n",
       "10  Johnnie\n",
       "11  William\n",
       "12      Lee\n",
       "13   Marion\n",
       "14  Francis\n",
       "15    Ollie"
      ]
     },
     "execution_count": 16,
     "metadata": {},
     "output_type": "execute_result"
    }
   ],
   "source": [
    "neutral_names_counts = pd.DataFrame(data[['Name']].value_counts().reset_index())\n",
    "top_neutral_names = neutral_names_counts[neutral_names_counts['count'] == observation_years * 2][['Name']]\n",
    "top_neutral_names"
   ]
  },
  {
   "cell_type": "markdown",
   "id": "cac00c41-30ea-403b-90d0-9a999de58890",
   "metadata": {},
   "source": [
    "### 24. Знайти найпопулярніше серед непопулярних імен (непопулярне ім’я, яким називали дітей найбільшу кількість разів)"
   ]
  },
  {
   "cell_type": "code",
   "execution_count": 17,
   "id": "f2a681c5-0e3a-4263-babc-cd32f3a001f4",
   "metadata": {},
   "outputs": [
    {
     "name": "stdout",
     "output_type": "stream",
     "text": [
      "Найпопулярніше серед непопулярних імен: Kris. Ним називали 100 разів\n"
     ]
    }
   ],
   "source": [
    "unpopular_names = data[data['Count'] <= 100]\n",
    "most_popular_unpopular_name = unpopular_names.sort_values(by='Count', ascending=False).head(1)\n",
    "print(f\"Найпопулярніше серед непопулярних імен: {most_popular_unpopular_name['Name'].values[0]}. Ним називали {most_popular_unpopular_name['Count'].values[0]} разів\")"
   ]
  },
  {
   "cell_type": "code",
   "execution_count": 18,
   "id": "2d040c1e-43b2-4c8f-9f74-116a5605bcb1",
   "metadata": {},
   "outputs": [],
   "source": [
    "import matplotlib.pyplot as plt"
   ]
  },
  {
   "cell_type": "markdown",
   "id": "a169a540-b6c9-4d06-a76f-222d5fec2e2b",
   "metadata": {},
   "source": [
    "### 25. Побудувати графіки розподілення кількості імен John та Mary по роках без залежності до статі."
   ]
  },
  {
   "cell_type": "code",
   "execution_count": 19,
   "id": "268920fa-e961-4f5d-8045-b16d2ab72dc7",
   "metadata": {},
   "outputs": [
    {
     "data": {
      "image/png": "[encoded data removed]",
      "text/plain": [
       "<Figure size 640x480 with 1 Axes>"
      ]
     },
     "metadata": {},
     "output_type": "display_data"
    }
   ],
   "source": [
    "names_to_plot = ['John', 'Mary']\n",
    "names_data = data[data['Name'].isin(names_to_plot)]\n",
    "\n",
    "for name in names_to_plot:\n",
    "    name_data = names_data[names_data['Name'] == name]\n",
    "    plt.plot(name_data['Year'].values, name_data['Count'].values, label=name)\n",
    "\n",
    "plt.title('Розподілення кількості імен John та Mary по роках')\n",
    "plt.xlabel('Рік')\n",
    "plt.ylabel('Кількість народжень')\n",
    "plt.legend()\n",
    "plt.show()"
   ]
  },
  {
   "cell_type": "markdown",
   "id": "d46ce06c-793d-48e8-8886-bc76e969a88b",
   "metadata": {},
   "source": [
    "### 26. Побудувати графіки розподілення кількості жіночих імен John та чоловічих імен Mary по роках."
   ]
  },
  {
   "cell_type": "code",
   "execution_count": 20,
   "id": "516a3743-7a82-415f-9376-7b413876f6db",
   "metadata": {},
   "outputs": [
    {
     "data": {
      "image/png": "[encoded data removed]",
      "text/plain": [
       "<Figure size 640x480 with 1 Axes>"
      ]
     },
     "metadata": {},
     "output_type": "display_data"
    }
   ],
   "source": [
    "female_names_data = data[data['Gender'] == 'F']\n",
    "female_names_to_plot = ['John']\n",
    "male_names_data = data[data['Gender'] == 'M']\n",
    "male_names_to_plot = ['Mary']\n",
    "\n",
    "for name in female_names_to_plot:\n",
    "    name_data = female_names_data[female_names_data['Name'] == name]\n",
    "    plt.plot(name_data['Year'].values, name_data['Count'].values, label=f'{name}')\n",
    "\n",
    "for name in male_names_to_plot:\n",
    "    name_data = male_names_data[male_names_data['Name'] == name]\n",
    "    plt.plot(name_data['Year'].values, name_data['Count'].values, label=f'Male {name}')\n",
    "\n",
    "plt.title('Розподілення кількості жіночих імен John та чоловічих імен Mary по роках')\n",
    "plt.xlabel('Рік')\n",
    "plt.ylabel('Кількість народжень')\n",
    "plt.legend()\n",
    "plt.show()"
   ]
  },
  {
   "cell_type": "markdown",
   "id": "8fdd125d-d010-47a7-8977-b970acd294cb",
   "metadata": {},
   "source": [
    "### 27. Знайти найпопулярніші імена в кожному році."
   ]
  },
  {
   "cell_type": "code",
   "execution_count": 21,
   "id": "972958b0-1451-4945-baeb-145421d94b7d",
   "metadata": {},
   "outputs": [
    {
     "data": {
      "text/html": [
       "<div>\n",
       "<style scoped>\n",
       "    .dataframe tbody tr th:only-of-type {\n",
       "        vertical-align: middle;\n",
       "    }\n",
       "\n",
       "    .dataframe tbody tr th {\n",
       "        vertical-align: top;\n",
       "    }\n",
       "\n",
       "    .dataframe thead th {\n",
       "        text-align: right;\n",
       "    }\n",
       "</style>\n",
       "<table border=\"1\" class=\"dataframe\">\n",
       "  <thead>\n",
       "    <tr style=\"text-align: right;\">\n",
       "      <th></th>\n",
       "      <th>Name</th>\n",
       "      <th>Count</th>\n",
       "    </tr>\n",
       "    <tr>\n",
       "      <th>Year</th>\n",
       "      <th></th>\n",
       "      <th></th>\n",
       "    </tr>\n",
       "  </thead>\n",
       "  <tbody>\n",
       "    <tr>\n",
       "      <th>1880</th>\n",
       "      <td>John</td>\n",
       "      <td>9655</td>\n",
       "    </tr>\n",
       "    <tr>\n",
       "      <th>1881</th>\n",
       "      <td>John</td>\n",
       "      <td>8769</td>\n",
       "    </tr>\n",
       "    <tr>\n",
       "      <th>1882</th>\n",
       "      <td>John</td>\n",
       "      <td>9557</td>\n",
       "    </tr>\n",
       "    <tr>\n",
       "      <th>1883</th>\n",
       "      <td>John</td>\n",
       "      <td>8894</td>\n",
       "    </tr>\n",
       "    <tr>\n",
       "      <th>1884</th>\n",
       "      <td>John</td>\n",
       "      <td>9388</td>\n",
       "    </tr>\n",
       "    <tr>\n",
       "      <th>...</th>\n",
       "      <td>...</td>\n",
       "      <td>...</td>\n",
       "    </tr>\n",
       "    <tr>\n",
       "      <th>2010</th>\n",
       "      <td>Isabella</td>\n",
       "      <td>22883</td>\n",
       "    </tr>\n",
       "    <tr>\n",
       "      <th>2011</th>\n",
       "      <td>Sophia</td>\n",
       "      <td>21816</td>\n",
       "    </tr>\n",
       "    <tr>\n",
       "      <th>2012</th>\n",
       "      <td>Sophia</td>\n",
       "      <td>22267</td>\n",
       "    </tr>\n",
       "    <tr>\n",
       "      <th>2013</th>\n",
       "      <td>Sophia</td>\n",
       "      <td>21147</td>\n",
       "    </tr>\n",
       "    <tr>\n",
       "      <th>2014</th>\n",
       "      <td>Emma</td>\n",
       "      <td>20799</td>\n",
       "    </tr>\n",
       "  </tbody>\n",
       "</table>\n",
       "<p>135 rows × 2 columns</p>\n",
       "</div>"
      ],
      "text/plain": [
       "          Name  Count\n",
       "Year                 \n",
       "1880      John   9655\n",
       "1881      John   8769\n",
       "1882      John   9557\n",
       "1883      John   8894\n",
       "1884      John   9388\n",
       "...        ...    ...\n",
       "2010  Isabella  22883\n",
       "2011    Sophia  21816\n",
       "2012    Sophia  22267\n",
       "2013    Sophia  21147\n",
       "2014      Emma  20799\n",
       "\n",
       "[135 rows x 2 columns]"
      ]
     },
     "execution_count": 21,
     "metadata": {},
     "output_type": "execute_result"
    }
   ],
   "source": [
    "most_popular_names_per_year = data.loc[data.groupby('Year')['Count'].idxmax()][['Year', 'Name', 'Count']]\n",
    "most_popular_names_per_year = most_popular_names_per_year.set_index('Year')\n",
    "most_popular_names_per_year"
   ]
  },
  {
   "cell_type": "markdown",
   "id": "c30209b2-b2ce-4006-a075-41dd7477affe",
   "metadata": {},
   "source": [
    "## <a href=\"https://github.com/dashboard\">Посилання</a> на створений блокнот Jupyter на GitHub"
   ]
  },
  {
   "cell_type": "markdown",
   "id": "dd19fdfb-2559-4585-b245-d39e76bdc87a",
   "metadata": {},
   "source": [
    "## Висновки\n",
    "**Під час виконання лабораторної роботи №2 було розлянуто бібліотеку мови Python Pandas та особливості її використання. \n",
    "Десятки виконаних завдань з цієї теми допомогли осягнути базові можливості цієї бібліотеки та отримати цінні знання.\n",
    "До того ж, було здобуто більше досвіду в Jupyter Notebook та вдосконалено навички роботи з блокнотом.\n",
    "Врешті-решт, пророблені в рамках лабораторної роботи №2 завдання будуть корисними для більш поглибленого програмування на Python.**"
   ]
  }
 ],
 "metadata": {
  "kernelspec": {
   "display_name": "Python 3 (ipykernel)",
   "language": "python",
   "name": "python3"
  },
  "language_info": {
   "codemirror_mode": {
    "name": "ipython",
    "version": 3
   },
   "file_extension": ".py",
   "mimetype": "text/x-python",
   "name": "python",
   "nbconvert_exporter": "python",
   "pygments_lexer": "ipython3",
   "version": "3.8.10"
  }
 },
 "nbformat": 4,
 "nbformat_minor": 5
}
